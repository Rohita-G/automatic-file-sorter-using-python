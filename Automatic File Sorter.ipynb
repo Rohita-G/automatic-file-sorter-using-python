{
 "cells": [
  {
   "cell_type": "markdown",
   "id": "5bce0c13-722a-4443-b8ab-5b351f863239",
   "metadata": {},
   "source": [
    "# Automaic File Sorter In File Explorer"
   ]
  },
  {
   "cell_type": "code",
   "execution_count": 49,
   "id": "04e708e2-528c-428b-bde4-62b617f89f4b",
   "metadata": {},
   "outputs": [],
   "source": [
    "import os, shutil\n",
    "# os is operating sys\n",
    "#shutil allows us to high lvl operation on files in file explorer"
   ]
  },
  {
   "cell_type": "code",
   "execution_count": 50,
   "id": "09a49c93-e912-41a3-b78b-372b0938a0ca",
   "metadata": {},
   "outputs": [],
   "source": [
    "path = r\"/Users/rohita/file_sorting_files/\"\n",
    "# r reads it as raw string/text"
   ]
  },
  {
   "cell_type": "code",
   "execution_count": 51,
   "id": "1c8d4a17-aa84-4ddf-b469-1f2d1bf3e2fd",
   "metadata": {},
   "outputs": [
    {
     "data": {
      "text/plain": [
       "['coco (1).pptx',\n",
       " 'ppt file',\n",
       " 'mov file',\n",
       " '.DS_Store',\n",
       " 'IMG_9013.MOV',\n",
       " 'directory.csv',\n",
       " 'heic file',\n",
       " 'csv files',\n",
       " 'IMG_9434.HEIC']"
      ]
     },
     "execution_count": 51,
     "metadata": {},
     "output_type": "execute_result"
    }
   ],
   "source": [
    "os.listdir(path)\n",
    "#shows all the files in that path"
   ]
  },
  {
   "cell_type": "code",
   "execution_count": 52,
   "id": "55a39bb5-2557-43a9-b6b0-adc4dd0aaec6",
   "metadata": {},
   "outputs": [
    {
     "name": "stdout",
     "output_type": "stream",
     "text": [
      "File deleted successfully.\n"
     ]
    }
   ],
   "source": [
    "file_path = \"/Users/rohita/file_sorting_files/.DS_Store\"\n",
    "\n",
    "if os.path.exists(file_path):\n",
    "    os.remove(file_path)\n",
    "    print(\"File deleted successfully.\")\n",
    "else:\n",
    "    print(\"File not found.\")"
   ]
  },
  {
   "cell_type": "code",
   "execution_count": 53,
   "id": "449d3898-c152-4d16-ae64-5d4e465cb1c5",
   "metadata": {},
   "outputs": [
    {
     "name": "stdout",
     "output_type": "stream",
     "text": [
      "['coco (1).pptx', 'ppt file', 'mov file', 'IMG_9013.MOV', 'directory.csv', 'heic file', 'csv files', 'IMG_9434.HEIC']\n"
     ]
    }
   ],
   "source": [
    "file_name = os.listdir(path)\n",
    "print(file_name)\n",
    "#shows all the files in that path"
   ]
  },
  {
   "cell_type": "code",
   "execution_count": 54,
   "id": "613d331a-4920-4e55-bff3-7a6e58d04523",
   "metadata": {},
   "outputs": [
    {
     "name": "stdout",
     "output_type": "stream",
     "text": [
      "/Users/rohita/file_sorting_files/csv files\n",
      "/Users/rohita/file_sorting_files/ppt file\n",
      "/Users/rohita/file_sorting_files/mov file\n",
      "/Users/rohita/file_sorting_files/heic file\n"
     ]
    }
   ],
   "source": [
    "folder_names=['csv files','ppt file','mov file','heic file']\n",
    "for loop in range(0,4):\n",
    "    if os.path.exists(path + folder_names[loop]):\n",
    "        print(path + folder_names[loop])\n",
    "    else:\n",
    "        os.makedirs(path + folder_names[loop])\n",
    "#here we are creating folder for respective typr of files in the folder for placing them into correct folder"
   ]
  },
  {
   "cell_type": "code",
   "execution_count": 55,
   "id": "cb5cdf87-190b-4650-afdb-187aac449ce5",
   "metadata": {},
   "outputs": [
    {
     "name": "stdout",
     "output_type": "stream",
     "text": [
      "coco (1).pptx successfully moved to ppt file\n",
      "IMG_9013.MOV successfully moved to mov file\n",
      "directory.csv successfully moved to csv files\n",
      "IMG_9434.HEIC successfully moved to heic file\n"
     ]
    }
   ],
   "source": [
    "for file in file_name:\n",
    "\n",
    "    # CSV FILES\n",
    "    if \".csv\" in file and not os.path.exists(path + \"csv files/\" + file):\n",
    "        shutil.move(path + file, path + \"csv files/\" + file)\n",
    "        if os.path.exists(path + \"csv files/\" + file):\n",
    "            print(file, \"successfully moved to csv files\")\n",
    "        else:\n",
    "            print(file, \"did not move\")\n",
    "\n",
    "    # PPT FILES\n",
    "    if \".ppt\" in file and not os.path.exists(path + \"ppt file/\" + file):\n",
    "        shutil.move(path + file, path + \"ppt file/\" + file)\n",
    "        if os.path.exists(path + \"ppt file/\" + file):\n",
    "            print(file, \"successfully moved to ppt file\")\n",
    "        else:\n",
    "            print(file, \"did not move\")\n",
    "\n",
    "    # MOV FILES\n",
    "    if \".mov\" in file.lower() and not os.path.exists(path + \"mov file/\" + file):\n",
    "        shutil.move(path + file, path + \"mov file/\" + file)\n",
    "        if os.path.exists(path + \"mov file/\" + file):\n",
    "            print(file, \"successfully moved to mov file\")\n",
    "        else:\n",
    "            print(file, \"did not move\")\n",
    "\n",
    "    # HEIC FILES\n",
    "    if \".heic\" in file.lower() and not os.path.exists(path + \"heic file/\" + file):\n",
    "        shutil.move(path + file, path + \"heic file/\" + file)\n",
    "        if os.path.exists(path + \"heic file/\" + file):\n",
    "            print(file, \"successfully moved to heic file\")\n",
    "        else:\n",
    "            print(file, \"did not move\")"
   ]
  },
  {
   "cell_type": "code",
   "execution_count": null,
   "id": "b035b533-1f52-4cb5-859f-dd29e7a23bd0",
   "metadata": {},
   "outputs": [],
   "source": []
  }
 ],
 "metadata": {
  "kernelspec": {
   "display_name": "Python 3 (ipykernel)",
   "language": "python",
   "name": "python3"
  },
  "language_info": {
   "codemirror_mode": {
    "name": "ipython",
    "version": 3
   },
   "file_extension": ".py",
   "mimetype": "text/x-python",
   "name": "python",
   "nbconvert_exporter": "python",
   "pygments_lexer": "ipython3",
   "version": "3.10.14"
  }
 },
 "nbformat": 4,
 "nbformat_minor": 5
}
